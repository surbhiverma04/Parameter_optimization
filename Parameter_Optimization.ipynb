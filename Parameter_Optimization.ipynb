{
  "nbformat": 4,
  "nbformat_minor": 0,
  "metadata": {
    "colab": {
      "provenance": []
    },
    "kernelspec": {
      "name": "python3",
      "display_name": "Python 3"
    },
    "language_info": {
      "name": "python"
    }
  },
  "cells": [
    {
      "cell_type": "code",
      "execution_count": 2,
      "metadata": {
        "colab": {
          "base_uri": "https://localhost:8080/"
        },
        "id": "Kvj0NgjzgYs8",
        "outputId": "9b5e9f7c-d009-4d9d-b1bc-a03c153dfc08"
      },
      "outputs": [
        {
          "output_type": "stream",
          "name": "stdout",
          "text": [
            "Requirement already satisfied: ucimlrepo in /usr/local/lib/python3.10/dist-packages (0.0.6)\n"
          ]
        }
      ],
      "source": [
        "!pip install ucimlrepo"
      ]
    },
    {
      "cell_type": "code",
      "source": [
        "import pandas as pd\n",
        "from sklearn.model_selection import train_test_split\n",
        "from sklearn.preprocessing import LabelEncoder"
      ],
      "metadata": {
        "id": "SXc-YkhRi6o-"
      },
      "execution_count": 3,
      "outputs": []
    },
    {
      "cell_type": "code",
      "source": [
        "from ucimlrepo import fetch_ucirepo\n",
        "letter_recognition = fetch_ucirepo(id=59)\n",
        "X = letter_recognition.data.features\n",
        "y = letter_recognition.data.targets\n",
        "print(letter_recognition.metadata)\n",
        "print(letter_recognition.variables)"
      ],
      "metadata": {
        "colab": {
          "base_uri": "https://localhost:8080/"
        },
        "id": "8MDLOm8uhgOl",
        "outputId": "41e767ef-a457-4e48-c0a2-eb249378073d"
      },
      "execution_count": 4,
      "outputs": [
        {
          "output_type": "stream",
          "name": "stdout",
          "text": [
            "{'uci_id': 59, 'name': 'Letter Recognition', 'repository_url': 'https://archive.ics.uci.edu/dataset/59/letter+recognition', 'data_url': 'https://archive.ics.uci.edu/static/public/59/data.csv', 'abstract': 'Database of character image features; try to identify the letter', 'area': 'Computer Science', 'tasks': ['Classification'], 'characteristics': ['Multivariate'], 'num_instances': 20000, 'num_features': 16, 'feature_types': ['Integer'], 'demographics': [], 'target_col': ['lettr'], 'index_col': None, 'has_missing_values': 'no', 'missing_values_symbol': None, 'year_of_dataset_creation': 1991, 'last_updated': 'Thu Sep 28 2023', 'dataset_doi': '10.24432/C5ZP40', 'creators': ['David Slate'], 'intro_paper': None, 'additional_info': {'summary': 'The objective is to identify each of a large number of black-and-white rectangular pixel displays as one of the 26 capital letters in the English alphabet.  The character images were based on 20 different fonts and each letter within these 20 fonts was randomly distorted to produce a file of 20,000 unique stimuli.  Each stimulus was converted into 16 primitive numerical attributes (statistical moments and edge counts) which were then scaled to fit into a range of integer values from 0 through 15.  We typically train on the first 16000 items and then use the resulting model to predict the letter category for the remaining 4000.  See the article cited above for more details.', 'purpose': None, 'funded_by': None, 'instances_represent': None, 'recommended_data_splits': None, 'sensitive_data': None, 'preprocessing_description': None, 'variable_info': '\\t 1.\\tlettr\\tcapital letter\\t(26 values from A to Z)\\r\\n\\t 2.\\tx-box\\thorizontal position of box\\t(integer)\\r\\n\\t 3.\\ty-box\\tvertical position of box\\t(integer)\\r\\n\\t 4.\\twidth\\twidth of box\\t\\t\\t(integer)\\r\\n\\t 5.\\thigh \\theight of box\\t\\t\\t(integer)\\r\\n\\t 6.\\tonpix\\ttotal # on pixels\\t\\t(integer)\\r\\n\\t 7.\\tx-bar\\tmean x of on pixels in box\\t(integer)\\r\\n\\t 8.\\ty-bar\\tmean y of on pixels in box\\t(integer)\\r\\n\\t 9.\\tx2bar\\tmean x variance\\t\\t\\t(integer)\\r\\n\\t10.\\ty2bar\\tmean y variance\\t\\t\\t(integer)\\r\\n\\t11.\\txybar\\tmean x y correlation\\t\\t(integer)\\r\\n\\t12.\\tx2ybr\\tmean of x * x * y\\t\\t(integer)\\r\\n\\t13.\\txy2br\\tmean of x * y * y\\t\\t(integer)\\r\\n\\t14.\\tx-ege\\tmean edge count left to right\\t(integer)\\r\\n\\t15.\\txegvy\\tcorrelation of x-ege with y\\t(integer)\\r\\n\\t16.\\ty-ege\\tmean edge count bottom to top\\t(integer)\\r\\n\\t17.\\tyegvx\\tcorrelation of y-ege with x\\t(integer)', 'citation': None}}\n",
            "     name     role         type demographic                    description  \\\n",
            "0   lettr   Target  Categorical        None                 capital letter   \n",
            "1   x-box  Feature      Integer        None     horizontal position of box   \n",
            "2   y-box  Feature      Integer        None       vertical position of box   \n",
            "3   width  Feature      Integer        None                   width of box   \n",
            "4    high  Feature      Integer        None                  height of box   \n",
            "5   onpix  Feature      Integer        None              total # on pixels   \n",
            "6   x-bar  Feature      Integer        None     mean x of on pixels in box   \n",
            "7   y-bar  Feature      Integer        None     mean y of on pixels in box   \n",
            "8   x2bar  Feature      Integer        None                mean x variance   \n",
            "9   y2bar  Feature      Integer        None                mean y variance   \n",
            "10  xybar  Feature      Integer        None           mean x y correlation   \n",
            "11  x2ybr  Feature      Integer        None              mean of x * x * y   \n",
            "12  xy2br  Feature      Integer        None              mean of x * y * y   \n",
            "13  x-ege  Feature      Integer        None  mean edge count left to right   \n",
            "14  xegvy  Feature      Integer        None    correlation of x-ege with y   \n",
            "15  y-ege  Feature      Integer        None  mean edge count bottom to top   \n",
            "16  yegvx  Feature      Integer        None    correlation of y-ege with x   \n",
            "\n",
            "   units missing_values  \n",
            "0   None             no  \n",
            "1   None             no  \n",
            "2   None             no  \n",
            "3   None             no  \n",
            "4   None             no  \n",
            "5   None             no  \n",
            "6   None             no  \n",
            "7   None             no  \n",
            "8   None             no  \n",
            "9   None             no  \n",
            "10  None             no  \n",
            "11  None             no  \n",
            "12  None             no  \n",
            "13  None             no  \n",
            "14  None             no  \n",
            "15  None             no  \n",
            "16  None             no  \n"
          ]
        }
      ]
    },
    {
      "cell_type": "code",
      "source": [
        "from sklearn.model_selection import train_test_split\n",
        "X_train, X_test, y_train, y_test = train_test_split(X, y, test_size=0.3, random_state=42)\n",
        "def create_data_splits(X_train, X_test, y_train, y_test, num_samples=10):\n",
        "  samples = []\n",
        "  for i in range(num_samples):\n",
        "    X_train_inner, X_val, y_train_inner, y_val = train_test_split(X_train, y_train, test_size=0.2, random_state=i)\n",
        "    samples.append((X_train_inner, X_val, y_train_inner, y_val, X_test, y_test))\n",
        "  return samples\n",
        "data_splits = create_data_splits(X_train, X_test, y_train, y_test)"
      ],
      "metadata": {
        "id": "2pdB05aZqcuD"
      },
      "execution_count": 5,
      "outputs": []
    },
    {
      "cell_type": "code",
      "source": [
        "from sklearn.svm import SVC\n",
        "from sklearn.model_selection import GridSearchCV\n",
        "def optimize_svm(X_train_inner, y_train_inner, param_grid):\n",
        "  svm_model = SVC(kernel='linear')\n",
        "  if isinstance(y_train_inner, pd.DataFrame):\n",
        "    y_train_inner = y_train_inner.values.ravel()\n",
        "  else:\n",
        "    y_train_inner = y_train_inner.ravel()\n",
        "  grid_search = GridSearchCV(svm_model, param_grid, cv=5, scoring='accuracy')\n",
        "  grid_search.fit(X_train_inner, y_train_inner)\n",
        "  best_model = grid_search.best_estimator_\n",
        "  best_params = grid_search.best_params_\n",
        "  best_accuracy = grid_search.best_score_\n",
        "  return best_model, best_params, best_accuracy\n",
        "param_grid = {\n",
        "  'kernel': ['linear', 'rbf'],\n",
        "  'C': [0.1, 1, 10],\n",
        "  'gamma': [0.001, 0.01, 0.1],\n",
        "}\n",
        "all_results = []\n",
        "for i, data_split in enumerate(data_splits):\n",
        "  X_train_inner, X_val, y_train_inner, y_val, X_test, y_test = data_split\n",
        "  y_train_inner = y_train_inner.values.ravel() if isinstance(y_train_inner, pd.DataFrame) else y_train_inner.ravel()\n",
        "  best_model, best_params, best_accuracy = optimize_svm(X_train_inner, y_train_inner, param_grid)\n",
        "  all_results.append((i+1, best_model, best_params, best_accuracy))\n",
        "print(\"Sample\\tBest Model\\tBest Parameters\\tBest Accuracy\")\n",
        "for sample, model, params, accuracy in all_results:\n",
        "  print(f\"{sample}\\t{model}\\t{params}\\t{accuracy:.4f}\")\n"
      ],
      "metadata": {
        "colab": {
          "base_uri": "https://localhost:8080/"
        },
        "id": "Y7mqPkE8qfg-",
        "outputId": "8941cecb-3e84-4b51-ab3d-dde174668cbe"
      },
      "execution_count": 7,
      "outputs": [
        {
          "output_type": "stream",
          "name": "stdout",
          "text": [
            "Sample\tBest Model\tBest Parameters\tBest Accuracy\n",
            "1\tSVC(C=10, gamma=0.1)\t{'C': 10, 'gamma': 0.1, 'kernel': 'rbf'}\t0.9612\n",
            "2\tSVC(C=10, gamma=0.1)\t{'C': 10, 'gamma': 0.1, 'kernel': 'rbf'}\t0.9605\n",
            "3\tSVC(C=10, gamma=0.1)\t{'C': 10, 'gamma': 0.1, 'kernel': 'rbf'}\t0.9598\n",
            "4\tSVC(C=10, gamma=0.1)\t{'C': 10, 'gamma': 0.1, 'kernel': 'rbf'}\t0.9595\n",
            "5\tSVC(C=10, gamma=0.1)\t{'C': 10, 'gamma': 0.1, 'kernel': 'rbf'}\t0.9579\n",
            "6\tSVC(C=10, gamma=0.1)\t{'C': 10, 'gamma': 0.1, 'kernel': 'rbf'}\t0.9580\n",
            "7\tSVC(C=10, gamma=0.1)\t{'C': 10, 'gamma': 0.1, 'kernel': 'rbf'}\t0.9587\n",
            "8\tSVC(C=10, gamma=0.1)\t{'C': 10, 'gamma': 0.1, 'kernel': 'rbf'}\t0.9583\n",
            "9\tSVC(C=10, gamma=0.1)\t{'C': 10, 'gamma': 0.1, 'kernel': 'rbf'}\t0.9596\n",
            "10\tSVC(C=10, gamma=0.1)\t{'C': 10, 'gamma': 0.1, 'kernel': 'rbf'}\t0.9628\n"
          ]
        }
      ]
    },
    {
      "cell_type": "code",
      "source": [
        "for sample, best_model, best_params, _ in all_results:\n",
        "  _, _, _, _, X_test_sample, y_test_sample = data_splits[sample - 1]\n",
        "  y_pred = best_model.predict(X_test_sample)\n",
        "  from sklearn.metrics import accuracy_score, precision_score, recall_score\n",
        "  accuracy = accuracy_score(y_test_sample, y_pred)\n",
        "  precision = precision_score(y_test_sample, y_pred, average='weighted')\n",
        "  recall = recall_score(y_test_sample, y_pred, average='weighted')\n",
        "  print(f\"Sample {sample} - Testing Accuracy: {accuracy:.4f}\")\n",
        "  print(f\"Sample {sample} - Precision (weighted): {precision:.4f}\")\n",
        "  print(f\"Sample {sample} - Recall (weighted): {recall:.4f}\")"
      ],
      "metadata": {
        "colab": {
          "base_uri": "https://localhost:8080/"
        },
        "id": "nFFEy5BCDZQG",
        "outputId": "e6488471-8edf-41ff-b0b7-8f65da267bc8"
      },
      "execution_count": 8,
      "outputs": [
        {
          "output_type": "stream",
          "name": "stdout",
          "text": [
            "Sample 1 - Testing Accuracy: 0.9642\n",
            "Sample 1 - Precision (weighted): 0.9648\n",
            "Sample 1 - Recall (weighted): 0.9642\n",
            "Sample 2 - Testing Accuracy: 0.9620\n",
            "Sample 2 - Precision (weighted): 0.9626\n",
            "Sample 2 - Recall (weighted): 0.9620\n",
            "Sample 3 - Testing Accuracy: 0.9660\n",
            "Sample 3 - Precision (weighted): 0.9666\n",
            "Sample 3 - Recall (weighted): 0.9660\n",
            "Sample 4 - Testing Accuracy: 0.9648\n",
            "Sample 4 - Precision (weighted): 0.9654\n",
            "Sample 4 - Recall (weighted): 0.9648\n",
            "Sample 5 - Testing Accuracy: 0.9682\n",
            "Sample 5 - Precision (weighted): 0.9684\n",
            "Sample 5 - Recall (weighted): 0.9682\n",
            "Sample 6 - Testing Accuracy: 0.9635\n",
            "Sample 6 - Precision (weighted): 0.9638\n",
            "Sample 6 - Recall (weighted): 0.9635\n",
            "Sample 7 - Testing Accuracy: 0.9648\n",
            "Sample 7 - Precision (weighted): 0.9653\n",
            "Sample 7 - Recall (weighted): 0.9648\n",
            "Sample 8 - Testing Accuracy: 0.9670\n",
            "Sample 8 - Precision (weighted): 0.9672\n",
            "Sample 8 - Recall (weighted): 0.9670\n",
            "Sample 9 - Testing Accuracy: 0.9663\n",
            "Sample 9 - Precision (weighted): 0.9668\n",
            "Sample 9 - Recall (weighted): 0.9663\n",
            "Sample 10 - Testing Accuracy: 0.9637\n",
            "Sample 10 - Precision (weighted): 0.9642\n",
            "Sample 10 - Recall (weighted): 0.9637\n"
          ]
        }
      ]
    },
    {
      "cell_type": "code",
      "source": [
        "best_sample_index=4\n",
        "import matplotlib.pyplot as plt\n",
        "def plot_convergence(X_train_inner_best, y_train_inner_best, best_params, num_iterations=100):\n",
        "  training_accuracy = []\n",
        "  best_model_overall = SVC(kernel=best_params['kernel'], C=best_params['C'], gamma=best_params['gamma'])\n",
        "  if isinstance(y_train_inner_best, pd.DataFrame):\n",
        "    y_train_inner_best = y_train_inner_best.values.ravel()\n",
        "  for i in range(num_iterations):\n",
        "    best_model_overall.fit(X_train_inner_best, y_train_inner_best)\n",
        "    y_pred = best_model_overall.predict(X_train_inner_best)\n",
        "    training_accuracy.append(accuracy_score(y_train_inner_best, y_pred))\n",
        "  plt.plot(range(num_iterations), training_accuracy)\n",
        "  plt.xlabel(\"Iterations\")\n",
        "  plt.ylabel(\"Training Accuracy\")\n",
        "  plt.title(\"Convergence of SVM Model with Best Parameters\")\n",
        "  plt.show()\n",
        "X_train_inner_best, X_val_best, y_train_inner_best, y_val_best, _, _ = data_splits[best_sample_index]\n",
        "best_params = all_results[best_sample_index][2]\n",
        "plot_convergence(X_train_inner_best, y_train_inner_best, best_params)"
      ],
      "metadata": {
        "colab": {
          "base_uri": "https://localhost:8080/",
          "height": 472
        },
        "id": "jk_gsC9MDuz6",
        "outputId": "345141fe-3303-429e-e47e-9591f06604a8"
      },
      "execution_count": 12,
      "outputs": [
        {
          "output_type": "display_data",
          "data": {
            "text/plain": [
              "<Figure size 640x480 with 1 Axes>"
            ],
            "image/png": "[encoded data removed]"
          },
          "metadata": {}
        }
      ]
    }
  ]
}